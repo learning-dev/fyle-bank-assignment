{
 "cells": [
  {
   "cell_type": "code",
   "execution_count": 1,
   "metadata": {},
   "outputs": [],
   "source": [
    "import pandas as pd"
   ]
  },
  {
   "cell_type": "code",
   "execution_count": 3,
   "metadata": {},
   "outputs": [],
   "source": [
    "df = pd.read_csv('bank_branches_large.csv')"
   ]
  },
  {
   "cell_type": "code",
   "execution_count": 4,
   "metadata": {},
   "outputs": [
    {
     "name": "stdout",
     "output_type": "stream",
     "text": [
      "bank_branches_large.csv  bank_dataset.csv  bankdb.dump\ttrim_bank_dataset.ipynb\r\n"
     ]
    }
   ],
   "source": [
    "!ls"
   ]
  },
  {
   "cell_type": "code",
   "execution_count": 5,
   "metadata": {},
   "outputs": [
    {
     "data": {
      "text/html": [
       "<div>\n",
       "<style scoped>\n",
       "    .dataframe tbody tr th:only-of-type {\n",
       "        vertical-align: middle;\n",
       "    }\n",
       "\n",
       "    .dataframe tbody tr th {\n",
       "        vertical-align: top;\n",
       "    }\n",
       "\n",
       "    .dataframe thead th {\n",
       "        text-align: right;\n",
       "    }\n",
       "</style>\n",
       "<table border=\"1\" class=\"dataframe\">\n",
       "  <thead>\n",
       "    <tr style=\"text-align: right;\">\n",
       "      <th></th>\n",
       "      <th>ifsc</th>\n",
       "      <th>bank_id</th>\n",
       "      <th>branch</th>\n",
       "      <th>address</th>\n",
       "      <th>city</th>\n",
       "      <th>district</th>\n",
       "      <th>state</th>\n",
       "      <th>bank_name</th>\n",
       "    </tr>\n",
       "  </thead>\n",
       "  <tbody>\n",
       "    <tr>\n",
       "      <td>0</td>\n",
       "      <td>ABHY0065001</td>\n",
       "      <td>60</td>\n",
       "      <td>RTGS-HO</td>\n",
       "      <td>ABHYUDAYA BANK BLDG., B.NO.71, NEHRU NAGAR, KU...</td>\n",
       "      <td>MUMBAI</td>\n",
       "      <td>GREATER MUMBAI</td>\n",
       "      <td>MAHARASHTRA</td>\n",
       "      <td>ABHYUDAYA COOPERATIVE BANK LIMITED</td>\n",
       "    </tr>\n",
       "    <tr>\n",
       "      <td>1</td>\n",
       "      <td>ABHY0065002</td>\n",
       "      <td>60</td>\n",
       "      <td>ABHYUDAYA NAGAR</td>\n",
       "      <td>ABHYUDAYA EDUCATION SOCIETY, OPP. BLDG. NO. 18...</td>\n",
       "      <td>MUMBAI</td>\n",
       "      <td>GREATER MUMBAI</td>\n",
       "      <td>MAHARASHTRA</td>\n",
       "      <td>ABHYUDAYA COOPERATIVE BANK LIMITED</td>\n",
       "    </tr>\n",
       "    <tr>\n",
       "      <td>2</td>\n",
       "      <td>ABHY0065003</td>\n",
       "      <td>60</td>\n",
       "      <td>BAIL BAZAR</td>\n",
       "      <td>KMSPM'S SCHOOL, WADIA ESTATE, BAIL BAZAR-KURLA...</td>\n",
       "      <td>MUMBAI</td>\n",
       "      <td>GREATER MUMBAI</td>\n",
       "      <td>MAHARASHTRA</td>\n",
       "      <td>ABHYUDAYA COOPERATIVE BANK LIMITED</td>\n",
       "    </tr>\n",
       "    <tr>\n",
       "      <td>3</td>\n",
       "      <td>ABHY0065004</td>\n",
       "      <td>60</td>\n",
       "      <td>BHANDUP</td>\n",
       "      <td>CHETNA APARTMENTS, J.M.ROAD, BHANDUP, MUMBAI-4...</td>\n",
       "      <td>MUMBAI</td>\n",
       "      <td>GREATER MUMBAI</td>\n",
       "      <td>MAHARASHTRA</td>\n",
       "      <td>ABHYUDAYA COOPERATIVE BANK LIMITED</td>\n",
       "    </tr>\n",
       "    <tr>\n",
       "      <td>4</td>\n",
       "      <td>ABHY0065005</td>\n",
       "      <td>60</td>\n",
       "      <td>DARUKHANA</td>\n",
       "      <td>POTIA IND.ESTATE, REAY ROAD (E), DARUKHANA, MU...</td>\n",
       "      <td>MUMBAI</td>\n",
       "      <td>GREATER MUMBAI</td>\n",
       "      <td>MAHARASHTRA</td>\n",
       "      <td>ABHYUDAYA COOPERATIVE BANK LIMITED</td>\n",
       "    </tr>\n",
       "  </tbody>\n",
       "</table>\n",
       "</div>"
      ],
      "text/plain": [
       "          ifsc  bank_id           branch  \\\n",
       "0  ABHY0065001       60          RTGS-HO   \n",
       "1  ABHY0065002       60  ABHYUDAYA NAGAR   \n",
       "2  ABHY0065003       60       BAIL BAZAR   \n",
       "3  ABHY0065004       60          BHANDUP   \n",
       "4  ABHY0065005       60        DARUKHANA   \n",
       "\n",
       "                                             address    city        district  \\\n",
       "0  ABHYUDAYA BANK BLDG., B.NO.71, NEHRU NAGAR, KU...  MUMBAI  GREATER MUMBAI   \n",
       "1  ABHYUDAYA EDUCATION SOCIETY, OPP. BLDG. NO. 18...  MUMBAI  GREATER MUMBAI   \n",
       "2  KMSPM'S SCHOOL, WADIA ESTATE, BAIL BAZAR-KURLA...  MUMBAI  GREATER MUMBAI   \n",
       "3  CHETNA APARTMENTS, J.M.ROAD, BHANDUP, MUMBAI-4...  MUMBAI  GREATER MUMBAI   \n",
       "4  POTIA IND.ESTATE, REAY ROAD (E), DARUKHANA, MU...  MUMBAI  GREATER MUMBAI   \n",
       "\n",
       "         state                           bank_name  \n",
       "0  MAHARASHTRA  ABHYUDAYA COOPERATIVE BANK LIMITED  \n",
       "1  MAHARASHTRA  ABHYUDAYA COOPERATIVE BANK LIMITED  \n",
       "2  MAHARASHTRA  ABHYUDAYA COOPERATIVE BANK LIMITED  \n",
       "3  MAHARASHTRA  ABHYUDAYA COOPERATIVE BANK LIMITED  \n",
       "4  MAHARASHTRA  ABHYUDAYA COOPERATIVE BANK LIMITED  "
      ]
     },
     "execution_count": 5,
     "metadata": {},
     "output_type": "execute_result"
    }
   ],
   "source": [
    "df.head()"
   ]
  },
  {
   "cell_type": "code",
   "execution_count": 6,
   "metadata": {},
   "outputs": [
    {
     "data": {
      "text/plain": [
       "170"
      ]
     },
     "execution_count": 6,
     "metadata": {},
     "output_type": "execute_result"
    }
   ],
   "source": [
    "len(df['bank_id'].unique())"
   ]
  },
  {
   "cell_type": "code",
   "execution_count": 7,
   "metadata": {},
   "outputs": [],
   "source": [
    "df = df[['ifsc', 'bank_id', 'bank_name', 'branch', 'address', 'city', 'district', 'state']]"
   ]
  },
  {
   "cell_type": "code",
   "execution_count": 8,
   "metadata": {},
   "outputs": [
    {
     "data": {
      "text/html": [
       "<div>\n",
       "<style scoped>\n",
       "    .dataframe tbody tr th:only-of-type {\n",
       "        vertical-align: middle;\n",
       "    }\n",
       "\n",
       "    .dataframe tbody tr th {\n",
       "        vertical-align: top;\n",
       "    }\n",
       "\n",
       "    .dataframe thead th {\n",
       "        text-align: right;\n",
       "    }\n",
       "</style>\n",
       "<table border=\"1\" class=\"dataframe\">\n",
       "  <thead>\n",
       "    <tr style=\"text-align: right;\">\n",
       "      <th></th>\n",
       "      <th>ifsc</th>\n",
       "      <th>bank_id</th>\n",
       "      <th>bank_name</th>\n",
       "      <th>branch</th>\n",
       "      <th>address</th>\n",
       "      <th>city</th>\n",
       "      <th>district</th>\n",
       "      <th>state</th>\n",
       "    </tr>\n",
       "  </thead>\n",
       "  <tbody>\n",
       "    <tr>\n",
       "      <td>0</td>\n",
       "      <td>ABHY0065001</td>\n",
       "      <td>60</td>\n",
       "      <td>ABHYUDAYA COOPERATIVE BANK LIMITED</td>\n",
       "      <td>RTGS-HO</td>\n",
       "      <td>ABHYUDAYA BANK BLDG., B.NO.71, NEHRU NAGAR, KU...</td>\n",
       "      <td>MUMBAI</td>\n",
       "      <td>GREATER MUMBAI</td>\n",
       "      <td>MAHARASHTRA</td>\n",
       "    </tr>\n",
       "    <tr>\n",
       "      <td>1</td>\n",
       "      <td>ABHY0065002</td>\n",
       "      <td>60</td>\n",
       "      <td>ABHYUDAYA COOPERATIVE BANK LIMITED</td>\n",
       "      <td>ABHYUDAYA NAGAR</td>\n",
       "      <td>ABHYUDAYA EDUCATION SOCIETY, OPP. BLDG. NO. 18...</td>\n",
       "      <td>MUMBAI</td>\n",
       "      <td>GREATER MUMBAI</td>\n",
       "      <td>MAHARASHTRA</td>\n",
       "    </tr>\n",
       "    <tr>\n",
       "      <td>2</td>\n",
       "      <td>ABHY0065003</td>\n",
       "      <td>60</td>\n",
       "      <td>ABHYUDAYA COOPERATIVE BANK LIMITED</td>\n",
       "      <td>BAIL BAZAR</td>\n",
       "      <td>KMSPM'S SCHOOL, WADIA ESTATE, BAIL BAZAR-KURLA...</td>\n",
       "      <td>MUMBAI</td>\n",
       "      <td>GREATER MUMBAI</td>\n",
       "      <td>MAHARASHTRA</td>\n",
       "    </tr>\n",
       "    <tr>\n",
       "      <td>3</td>\n",
       "      <td>ABHY0065004</td>\n",
       "      <td>60</td>\n",
       "      <td>ABHYUDAYA COOPERATIVE BANK LIMITED</td>\n",
       "      <td>BHANDUP</td>\n",
       "      <td>CHETNA APARTMENTS, J.M.ROAD, BHANDUP, MUMBAI-4...</td>\n",
       "      <td>MUMBAI</td>\n",
       "      <td>GREATER MUMBAI</td>\n",
       "      <td>MAHARASHTRA</td>\n",
       "    </tr>\n",
       "    <tr>\n",
       "      <td>4</td>\n",
       "      <td>ABHY0065005</td>\n",
       "      <td>60</td>\n",
       "      <td>ABHYUDAYA COOPERATIVE BANK LIMITED</td>\n",
       "      <td>DARUKHANA</td>\n",
       "      <td>POTIA IND.ESTATE, REAY ROAD (E), DARUKHANA, MU...</td>\n",
       "      <td>MUMBAI</td>\n",
       "      <td>GREATER MUMBAI</td>\n",
       "      <td>MAHARASHTRA</td>\n",
       "    </tr>\n",
       "  </tbody>\n",
       "</table>\n",
       "</div>"
      ],
      "text/plain": [
       "          ifsc  bank_id                           bank_name           branch  \\\n",
       "0  ABHY0065001       60  ABHYUDAYA COOPERATIVE BANK LIMITED          RTGS-HO   \n",
       "1  ABHY0065002       60  ABHYUDAYA COOPERATIVE BANK LIMITED  ABHYUDAYA NAGAR   \n",
       "2  ABHY0065003       60  ABHYUDAYA COOPERATIVE BANK LIMITED       BAIL BAZAR   \n",
       "3  ABHY0065004       60  ABHYUDAYA COOPERATIVE BANK LIMITED          BHANDUP   \n",
       "4  ABHY0065005       60  ABHYUDAYA COOPERATIVE BANK LIMITED        DARUKHANA   \n",
       "\n",
       "                                             address    city        district  \\\n",
       "0  ABHYUDAYA BANK BLDG., B.NO.71, NEHRU NAGAR, KU...  MUMBAI  GREATER MUMBAI   \n",
       "1  ABHYUDAYA EDUCATION SOCIETY, OPP. BLDG. NO. 18...  MUMBAI  GREATER MUMBAI   \n",
       "2  KMSPM'S SCHOOL, WADIA ESTATE, BAIL BAZAR-KURLA...  MUMBAI  GREATER MUMBAI   \n",
       "3  CHETNA APARTMENTS, J.M.ROAD, BHANDUP, MUMBAI-4...  MUMBAI  GREATER MUMBAI   \n",
       "4  POTIA IND.ESTATE, REAY ROAD (E), DARUKHANA, MU...  MUMBAI  GREATER MUMBAI   \n",
       "\n",
       "         state  \n",
       "0  MAHARASHTRA  \n",
       "1  MAHARASHTRA  \n",
       "2  MAHARASHTRA  \n",
       "3  MAHARASHTRA  \n",
       "4  MAHARASHTRA  "
      ]
     },
     "execution_count": 8,
     "metadata": {},
     "output_type": "execute_result"
    }
   ],
   "source": [
    "df.head()"
   ]
  },
  {
   "cell_type": "code",
   "execution_count": 9,
   "metadata": {},
   "outputs": [],
   "source": [
    "df.columns = ['ifsc_code', 'bank_id', 'bank_name', 'branch', 'addres', 'city', 'district', 'state']"
   ]
  },
  {
   "cell_type": "code",
   "execution_count": 10,
   "metadata": {},
   "outputs": [
    {
     "data": {
      "text/html": [
       "<div>\n",
       "<style scoped>\n",
       "    .dataframe tbody tr th:only-of-type {\n",
       "        vertical-align: middle;\n",
       "    }\n",
       "\n",
       "    .dataframe tbody tr th {\n",
       "        vertical-align: top;\n",
       "    }\n",
       "\n",
       "    .dataframe thead th {\n",
       "        text-align: right;\n",
       "    }\n",
       "</style>\n",
       "<table border=\"1\" class=\"dataframe\">\n",
       "  <thead>\n",
       "    <tr style=\"text-align: right;\">\n",
       "      <th></th>\n",
       "      <th>ifsc_code</th>\n",
       "      <th>bank_id</th>\n",
       "      <th>bank_name</th>\n",
       "      <th>branch</th>\n",
       "      <th>addres</th>\n",
       "      <th>city</th>\n",
       "      <th>district</th>\n",
       "      <th>state</th>\n",
       "    </tr>\n",
       "  </thead>\n",
       "  <tbody>\n",
       "    <tr>\n",
       "      <td>0</td>\n",
       "      <td>ABHY0065001</td>\n",
       "      <td>60</td>\n",
       "      <td>ABHYUDAYA COOPERATIVE BANK LIMITED</td>\n",
       "      <td>RTGS-HO</td>\n",
       "      <td>ABHYUDAYA BANK BLDG., B.NO.71, NEHRU NAGAR, KU...</td>\n",
       "      <td>MUMBAI</td>\n",
       "      <td>GREATER MUMBAI</td>\n",
       "      <td>MAHARASHTRA</td>\n",
       "    </tr>\n",
       "    <tr>\n",
       "      <td>1</td>\n",
       "      <td>ABHY0065002</td>\n",
       "      <td>60</td>\n",
       "      <td>ABHYUDAYA COOPERATIVE BANK LIMITED</td>\n",
       "      <td>ABHYUDAYA NAGAR</td>\n",
       "      <td>ABHYUDAYA EDUCATION SOCIETY, OPP. BLDG. NO. 18...</td>\n",
       "      <td>MUMBAI</td>\n",
       "      <td>GREATER MUMBAI</td>\n",
       "      <td>MAHARASHTRA</td>\n",
       "    </tr>\n",
       "    <tr>\n",
       "      <td>2</td>\n",
       "      <td>ABHY0065003</td>\n",
       "      <td>60</td>\n",
       "      <td>ABHYUDAYA COOPERATIVE BANK LIMITED</td>\n",
       "      <td>BAIL BAZAR</td>\n",
       "      <td>KMSPM'S SCHOOL, WADIA ESTATE, BAIL BAZAR-KURLA...</td>\n",
       "      <td>MUMBAI</td>\n",
       "      <td>GREATER MUMBAI</td>\n",
       "      <td>MAHARASHTRA</td>\n",
       "    </tr>\n",
       "    <tr>\n",
       "      <td>3</td>\n",
       "      <td>ABHY0065004</td>\n",
       "      <td>60</td>\n",
       "      <td>ABHYUDAYA COOPERATIVE BANK LIMITED</td>\n",
       "      <td>BHANDUP</td>\n",
       "      <td>CHETNA APARTMENTS, J.M.ROAD, BHANDUP, MUMBAI-4...</td>\n",
       "      <td>MUMBAI</td>\n",
       "      <td>GREATER MUMBAI</td>\n",
       "      <td>MAHARASHTRA</td>\n",
       "    </tr>\n",
       "    <tr>\n",
       "      <td>4</td>\n",
       "      <td>ABHY0065005</td>\n",
       "      <td>60</td>\n",
       "      <td>ABHYUDAYA COOPERATIVE BANK LIMITED</td>\n",
       "      <td>DARUKHANA</td>\n",
       "      <td>POTIA IND.ESTATE, REAY ROAD (E), DARUKHANA, MU...</td>\n",
       "      <td>MUMBAI</td>\n",
       "      <td>GREATER MUMBAI</td>\n",
       "      <td>MAHARASHTRA</td>\n",
       "    </tr>\n",
       "  </tbody>\n",
       "</table>\n",
       "</div>"
      ],
      "text/plain": [
       "     ifsc_code  bank_id                           bank_name           branch  \\\n",
       "0  ABHY0065001       60  ABHYUDAYA COOPERATIVE BANK LIMITED          RTGS-HO   \n",
       "1  ABHY0065002       60  ABHYUDAYA COOPERATIVE BANK LIMITED  ABHYUDAYA NAGAR   \n",
       "2  ABHY0065003       60  ABHYUDAYA COOPERATIVE BANK LIMITED       BAIL BAZAR   \n",
       "3  ABHY0065004       60  ABHYUDAYA COOPERATIVE BANK LIMITED          BHANDUP   \n",
       "4  ABHY0065005       60  ABHYUDAYA COOPERATIVE BANK LIMITED        DARUKHANA   \n",
       "\n",
       "                                              addres    city        district  \\\n",
       "0  ABHYUDAYA BANK BLDG., B.NO.71, NEHRU NAGAR, KU...  MUMBAI  GREATER MUMBAI   \n",
       "1  ABHYUDAYA EDUCATION SOCIETY, OPP. BLDG. NO. 18...  MUMBAI  GREATER MUMBAI   \n",
       "2  KMSPM'S SCHOOL, WADIA ESTATE, BAIL BAZAR-KURLA...  MUMBAI  GREATER MUMBAI   \n",
       "3  CHETNA APARTMENTS, J.M.ROAD, BHANDUP, MUMBAI-4...  MUMBAI  GREATER MUMBAI   \n",
       "4  POTIA IND.ESTATE, REAY ROAD (E), DARUKHANA, MU...  MUMBAI  GREATER MUMBAI   \n",
       "\n",
       "         state  \n",
       "0  MAHARASHTRA  \n",
       "1  MAHARASHTRA  \n",
       "2  MAHARASHTRA  \n",
       "3  MAHARASHTRA  \n",
       "4  MAHARASHTRA  "
      ]
     },
     "execution_count": 10,
     "metadata": {},
     "output_type": "execute_result"
    }
   ],
   "source": [
    "df.head()"
   ]
  },
  {
   "cell_type": "code",
   "execution_count": 11,
   "metadata": {},
   "outputs": [
    {
     "data": {
      "text/plain": [
       "170"
      ]
     },
     "execution_count": 11,
     "metadata": {},
     "output_type": "execute_result"
    }
   ],
   "source": [
    "len(df['bank_name'].unique())"
   ]
  },
  {
   "cell_type": "code",
   "execution_count": 12,
   "metadata": {},
   "outputs": [
    {
     "data": {
      "text/plain": [
       "(127857, 8)"
      ]
     },
     "execution_count": 12,
     "metadata": {},
     "output_type": "execute_result"
    }
   ],
   "source": [
    "df.shape"
   ]
  },
  {
   "cell_type": "code",
   "execution_count": 13,
   "metadata": {},
   "outputs": [
    {
     "data": {
      "text/plain": [
       "127857"
      ]
     },
     "execution_count": 13,
     "metadata": {},
     "output_type": "execute_result"
    }
   ],
   "source": [
    "len(df['ifsc_code'].unique())"
   ]
  },
  {
   "cell_type": "code",
   "execution_count": 14,
   "metadata": {},
   "outputs": [
    {
     "data": {
      "text/plain": [
       "array(['ABHYUDAYA COOPERATIVE BANK LIMITED', 'STATE BANK OF INDIA',\n",
       "       'ABU DHABI COMMERCIAL BANK', 'THE ROYAL BANK OF SCOTLAND N V',\n",
       "       'THE AKOLA DISTRICT CENTRAL COOPERATIVE BANK',\n",
       "       'AKOLA JANATA COMMERCIAL COOPERATIVE BANK', 'ALLAHABAD BANK',\n",
       "       'ANDHRA BANK', 'STATE BANK OF PATIALA', 'DENA BANK',\n",
       "       'BANK OF INDIA', 'AHMEDABAD MERCANTILE COOPERATIVE BANK',\n",
       "       'CENTRAL BANK OF INDIA', 'CANARA BANK', 'FEDERAL BANK',\n",
       "       'THE ANDHRA PRADESH STATE COOPERATIVE BANK LIMITED',\n",
       "       'AUSTRALIA AND NEW ZEALAND BANKING GROUP LIMITED',\n",
       "       'THE HASTI COOP BANK LTD', 'APNA SAHAKARI BANK LIMITED',\n",
       "       'ANDHRA PRAGATHI GRAMEENA BANK', 'BANK OF BARODA', 'IDBI BANK',\n",
       "       'ICICI BANK LIMITED', 'ALMORA URBAN COOPERATIVE BANK LIMITED',\n",
       "       'THE A.P. MAHESH COOPERATIVE URBAN BANK LIMITED', 'INDIAN BANK',\n",
       "       'BASSEIN CATHOLIC COOPERATIVE BANK LIMITED',\n",
       "       'ORIENTAL BANK OF COMMERCE', 'PRAGATHI KRISHNA GRAMIN BANK',\n",
       "       'PUNJAB NATIONAL BANK', 'STATE BANK OF HYDERABAD',\n",
       "       'BANDHAN BANK LIMITED', 'BARCLAYS BANK',\n",
       "       'BANK OF BAHARAIN AND KUWAIT BSC',\n",
       "       'BHARAT COOPERATIVE BANK MUMBAI LIMITED', 'BANK OF CEYLON',\n",
       "       'BHARATIYA MAHILA BANK LIMITED', 'STATE BANK OF MYSORE',\n",
       "       'B N P PARIBAS', 'BANK OF AMERICA',\n",
       "       'BANK OF TOKYO MITSUBISHI LIMITED', 'UCO BANK', 'CITI BANK',\n",
       "       'CITIZEN CREDIT COOPERATIVE BANK LIMITED', 'JP MORGAN BANK',\n",
       "       'CITY UNION BANK LIMITED', 'CAPITAL LOCAL AREA BANK LIMITED',\n",
       "       'CORPORATION BANK', 'CATHOLIC SYRIAN BANK LIMITED',\n",
       "       'THE DELHI STATE COOPERATIVE BANK LIMITED', 'DHANALAKSHMI BANK',\n",
       "       'UNITED BANK OF INDIA', 'THE COSMOS CO OPERATIVE BANK LIMITED',\n",
       "       'SHRI CHHATRAPATI RAJASHRI SHAHU URBAN COOPERATIVE',\n",
       "       'CREDIT SUISEE AG',\n",
       "       'CREDIT AGRICOLE CORPORATE AND INVESTMENT BANK CAL',\n",
       "       'COMMONWEALTH BANK OF AUSTRALIA',\n",
       "       'CHINATRUST COMMERCIAL BANK LIMITED',\n",
       "       'DEVELOPMENT BANK OF SINGAPORE', 'DCB BANK LIMITED',\n",
       "       'DEUSTCHE BANK',\n",
       "       'DEPOSIT INSURANCE AND CREDIT GUARANTEE CORPORATIO',\n",
       "       'DOMBIVLI NAGARI SAHAKARI BANK LIMITED', 'DOHA BANK QSC',\n",
       "       'DOHA BANK', 'EXPORT IMPORT BANK OF INDIA', 'AXIS BANK',\n",
       "       'YES BANK', 'FIRSTRAND BANK LIMITED',\n",
       "       'THE GREATER BOMBAY COOPERATIVE BANK LIMITED',\n",
       "       'THE GADCHIROLI DISTRICT CENTRAL COOPERATIVE BANK ',\n",
       "       'THE GUJARAT STATE COOPERATIVE BANK LIMITED', 'HDFC BANK',\n",
       "       'HSBC BANK', 'WOORI BANK', 'BANK INTERNASIONAL INDONESIA',\n",
       "       'INDUSTRIAL BANK OF KOREA',\n",
       "       'INDUSTRIAL AND COMMERCIAL BANK OF CHINA LIMITED',\n",
       "       'INDIAN OVERSEAS BANK', 'JAMMU AND KASHMIR BANK LIMITED',\n",
       "       'IDFC BANK LIMITED', 'INDUSIND BANK',\n",
       "       'THE KANGRA CENTRAL COOPERATIVE BANK LIMITED',\n",
       "       'JANASEVA SAHAKARI BANK LIMITED',\n",
       "       'JANASEVA SAHAKARI BANK BORIVLI LIMITED',\n",
       "       'JALGAON JANATA SAHAKARI BANK LIMITED',\n",
       "       'THE JALGAON PEOPELS COOPERATIVE BANK LIMITED',\n",
       "       'JANAKALYAN SAHAKARI BANK LIMITED', 'JANATA SAHAKARI BANK LIMITED',\n",
       "       'KALLAPPANNA AWADE ICHALKARANJI JANATA SAHAKARI BA',\n",
       "       'THE KANGRA COOPERATIVE BANK LIMITED', 'KARNATAKA BANK LIMITED',\n",
       "       'KAPOL COOPERATIVE BANK LIMITED',\n",
       "       'KALUPUR COMMERCIAL COOPERATIVE BANK',\n",
       "       'KOTAK MAHINDRA BANK LIMITED', 'KALYAN JANATA SAHAKARI BANK',\n",
       "       'KERALA GRAMIN BANK', 'THE KURMANCHAL NAGAR SAHAKARI BANK LIMITED',\n",
       "       'THE KARANATAKA STATE COOPERATIVE APEX BANK LIMITE',\n",
       "       'THE KARAD URBAN COOPERATIVE BANK LIMITED', 'KARUR VYSYA BANK',\n",
       "       'KARNATAKA VIKAS GRAMEENA BANK', 'LAXMI VILAS BANK',\n",
       "       'BANK OF MAHARASHTRA', 'MAHARASHTRA STATE COOPERATIVE BANK',\n",
       "       'THE MEHSANA URBAN COOPERATIVE BANK', 'MAHANAGAR COOPERATIVE BANK',\n",
       "       'THE MUMBAI DISTRICT CENTRAL COOPERATIVE BANK LIMI',\n",
       "       'MIZUHO CORPORATE BANK LIMITED', 'MASHREQBANK PSC',\n",
       "       'THE MUNICIPAL COOPERATIVE BANK LIMITED',\n",
       "       'NATIONAL AUSTRALIA BANK LIMITED',\n",
       "       'NATIONAL BANK OF ABU DHABI PJSC',\n",
       "       'NAGPUR NAGARIK SAHAKARI BANK LIMITED',\n",
       "       'NEW INDIA COOPERATIVE BANK LIMITED',\n",
       "       'NKGSB COOPERATIVE BANK LIMITED', 'THE NAINITAL BANK LIMITED',\n",
       "       'THE NASIK MERCHANTS COOPERATIVE BANK LIMITED',\n",
       "       'NUTAN NAGARIK SAHAKARI BANK LIMITED', 'THE BANK OF NOVA SCOTIA',\n",
       "       'NAGAR URBAN CO OPERATIVE BANK', 'G P PARSIK BANK',\n",
       "       'PUNJAB AND MAHARSHTRA COOPERATIVE BANK', 'PRATHAMA BANK',\n",
       "       'PRIME COOPERATIVE BANK LIMITED', 'PUNJAB AND SIND BANK',\n",
       "       'THE RAJASTHAN STATE COOPERATIVE BANK LIMITED',\n",
       "       'STATE BANK OF BIKANER AND JAIPUR', 'RABOBANK INTERNATIONAL',\n",
       "       'RATNAKAR BANK LIMITED', 'RESERVE BANK OF INDIA',\n",
       "       'RAJKOT NAGRIK SAHAKARI BANK LIMITED',\n",
       "       'RAJGURUNAGAR SAHAKARI BANK LIMITED', 'SBER BANK',\n",
       "       'SAHEBRAO DESHMUKH COOPERATIVE BANK LIMITED',\n",
       "       'STATE BANK OF TRAVANCORE', 'STANDARD CHARTERED BANK',\n",
       "       'THE SURAT DISTRICT COOPERATIVE BANK LIMITED', 'SHINHAN BANK',\n",
       "       'SOUTH INDIAN BANK', 'SOLAPUR JANATA SAHAKARI BANK LIMITED',\n",
       "       'SHIKSHAK SAHAKARI BANK LIMITED',\n",
       "       'SUMITOMO MITSUI BANKING CORPORATION', 'SOCIETE GENERALE',\n",
       "       'THE SURATH PEOPLES COOPERATIVE BANK LIMITED',\n",
       "       'SARASWAT COOPERATIVE BANK LIMITED',\n",
       "       'THE SHAMRAO VITHAL COOPERATIVE BANK', 'SYNDICATE BANK',\n",
       "       'SBM BANK MAURITIUS LIMITED',\n",
       "       'SURAT NATIONAL COOPERATIVE BANK LIMITED',\n",
       "       'SUTEX COOPERATIVE BANK LIMITED',\n",
       "       'THE SEVA VIKAS COOPERATIVE BANK LIMITED', 'UNION BANK OF INDIA',\n",
       "       'THE THANE BHARAT SAHAKARI BANK LIMITED',\n",
       "       'THE THANE DISTRICT CENTRAL COOPERATIVE BANK LIMIT',\n",
       "       'TUMKUR GRAIN MERCHANTS COOPERATIVE BANK LIMITED',\n",
       "       'TJSB SAHAKARI BANK LTD', 'TJSB SAHAKARI BANK LIMITED',\n",
       "       'TAMILNAD MERCANTILE BANK LIMITED',\n",
       "       'THE TAMIL NADU STATE APEX COOPERATIVE BANK',\n",
       "       'UNITED OVERSEAS BANK LIMITED', 'ING VYSYA BANK',\n",
       "       'THE WEST BENGAL STATE COOPERATIVE BANK', 'VIJAYA BANK',\n",
       "       'THE VARACHHA COOPERATIVE BANK LIMITED',\n",
       "       'THE VISHWESHWAR SAHAKARI BANK LIMITED',\n",
       "       'VASAI VIKAS SAHAKARI BANK LIMITED', 'WESTPAC BANKING CORPORATION',\n",
       "       'THE ZOROASTRIAN COOPERATIVE BANK LIMITED',\n",
       "       'ZILA SAHAKRI BANK LIMITED GHAZIABAD'], dtype=object)"
      ]
     },
     "execution_count": 14,
     "metadata": {},
     "output_type": "execute_result"
    }
   ],
   "source": [
    "df['bank_name'].unique()"
   ]
  },
  {
   "cell_type": "code",
   "execution_count": 15,
   "metadata": {},
   "outputs": [],
   "source": [
    "smaller_df = df.loc[df['bank_name'] == 'ICICI BANK LIMITED'].head(1000)"
   ]
  },
  {
   "cell_type": "code",
   "execution_count": 16,
   "metadata": {},
   "outputs": [],
   "source": [
    "pnb  = df.loc[df['bank_name'] == 'PUNJAB NATIONAL BANK'].head(1000)"
   ]
  },
  {
   "cell_type": "code",
   "execution_count": 17,
   "metadata": {},
   "outputs": [],
   "source": [
    "banks = ['CORPORATION BANK','BANK OF AMERICA', 'UCO BANK', 'CITI BANK',   'DOHA BANK', 'EXPORT IMPORT BANK OF INDIA', 'AXIS BANK',\n",
    "       'YES BANK', 'FIRSTRAND BANK LIMITED',\n",
    "       'THE GREATER BOMBAY COOPERATIVE BANK LIMITED',  'BANK OF INDIA', 'AHMEDABAD MERCANTILE COOPERATIVE BANK',\n",
    "       'CENTRAL BANK OF INDIA', 'CANARA BANK', 'FEDERAL BANK',  'IDFC BANK LIMITED', 'INDUSIND BANK', 'CREDIT SUISEE AG']"
   ]
  },
  {
   "cell_type": "code",
   "execution_count": 18,
   "metadata": {},
   "outputs": [
    {
     "data": {
      "text/plain": [
       "18"
      ]
     },
     "execution_count": 18,
     "metadata": {},
     "output_type": "execute_result"
    }
   ],
   "source": [
    "len(banks)"
   ]
  },
  {
   "cell_type": "code",
   "execution_count": 19,
   "metadata": {},
   "outputs": [],
   "source": [
    "for bank in banks:\n",
    "    b_df = df.loc[df['bank_name'] == bank].head(1000)\n",
    "    smaller_df = smaller_df.append(b_df)\n",
    "    "
   ]
  },
  {
   "cell_type": "code",
   "execution_count": 20,
   "metadata": {},
   "outputs": [
    {
     "data": {
      "text/plain": [
       "10027"
      ]
     },
     "execution_count": 20,
     "metadata": {},
     "output_type": "execute_result"
    }
   ],
   "source": [
    "len(smaller_df)"
   ]
  },
  {
   "cell_type": "code",
   "execution_count": 21,
   "metadata": {},
   "outputs": [
    {
     "data": {
      "text/html": [
       "<div>\n",
       "<style scoped>\n",
       "    .dataframe tbody tr th:only-of-type {\n",
       "        vertical-align: middle;\n",
       "    }\n",
       "\n",
       "    .dataframe tbody tr th {\n",
       "        vertical-align: top;\n",
       "    }\n",
       "\n",
       "    .dataframe thead th {\n",
       "        text-align: right;\n",
       "    }\n",
       "</style>\n",
       "<table border=\"1\" class=\"dataframe\">\n",
       "  <thead>\n",
       "    <tr style=\"text-align: right;\">\n",
       "      <th></th>\n",
       "      <th>ifsc_code</th>\n",
       "      <th>bank_id</th>\n",
       "      <th>bank_name</th>\n",
       "      <th>branch</th>\n",
       "      <th>addres</th>\n",
       "      <th>city</th>\n",
       "      <th>district</th>\n",
       "      <th>state</th>\n",
       "    </tr>\n",
       "  </thead>\n",
       "  <tbody>\n",
       "    <tr>\n",
       "      <td>8086</td>\n",
       "      <td>ICIC0006087</td>\n",
       "      <td>8</td>\n",
       "      <td>ICICI BANK LIMITED</td>\n",
       "      <td>MANNARGUDI</td>\n",
       "      <td>THIRUVARUR DIST</td>\n",
       "      <td>MANNARGUDI</td>\n",
       "      <td>THIRUVARUR</td>\n",
       "      <td>TAMIL NADU</td>\n",
       "    </tr>\n",
       "    <tr>\n",
       "      <td>8131</td>\n",
       "      <td>ICIC0006285</td>\n",
       "      <td>8</td>\n",
       "      <td>ICICI BANK LIMITED</td>\n",
       "      <td>MEERUT┬á</td>\n",
       "      <td>MEERUT┬á</td>\n",
       "      <td>MEERUT</td>\n",
       "      <td>MEERUT</td>\n",
       "      <td>UTTAR PRADESH</td>\n",
       "    </tr>\n",
       "    <tr>\n",
       "      <td>8384</td>\n",
       "      <td>ICIC0006855</td>\n",
       "      <td>8</td>\n",
       "      <td>ICICI BANK LIMITED</td>\n",
       "      <td>BARAN</td>\n",
       "      <td>MAIN BAZAR,BARAN-325205</td>\n",
       "      <td>BARAN</td>\n",
       "      <td>BARAN</td>\n",
       "      <td>RAJASTHAN</td>\n",
       "    </tr>\n",
       "    <tr>\n",
       "      <td>40790</td>\n",
       "      <td>ICIC0006689</td>\n",
       "      <td>8</td>\n",
       "      <td>ICICI BANK LIMITED</td>\n",
       "      <td>POTLAN</td>\n",
       "      <td>POTLAN-311810,GANGAPUR TALUKA</td>\n",
       "      <td>POTLAN</td>\n",
       "      <td>BHILWARA</td>\n",
       "      <td>RAJASTHAN</td>\n",
       "    </tr>\n",
       "    <tr>\n",
       "      <td>41269</td>\n",
       "      <td>ICIC0006802</td>\n",
       "      <td>8</td>\n",
       "      <td>ICICI BANK LIMITED</td>\n",
       "      <td>ABU ROAD</td>\n",
       "      <td>SADAR BAZAR,ABU ROAD,TEH.ABU ROAD,307026</td>\n",
       "      <td>ABU ROAD</td>\n",
       "      <td>SIROHI</td>\n",
       "      <td>RAJASTHAN</td>\n",
       "    </tr>\n",
       "  </tbody>\n",
       "</table>\n",
       "</div>"
      ],
      "text/plain": [
       "         ifsc_code  bank_id           bank_name      branch  \\\n",
       "8086   ICIC0006087        8  ICICI BANK LIMITED  MANNARGUDI   \n",
       "8131   ICIC0006285        8  ICICI BANK LIMITED    MEERUT┬á   \n",
       "8384   ICIC0006855        8  ICICI BANK LIMITED       BARAN   \n",
       "40790  ICIC0006689        8  ICICI BANK LIMITED      POTLAN   \n",
       "41269  ICIC0006802        8  ICICI BANK LIMITED    ABU ROAD   \n",
       "\n",
       "                                         addres        city    district  \\\n",
       "8086                            THIRUVARUR DIST  MANNARGUDI  THIRUVARUR   \n",
       "8131                                   MEERUT┬á      MEERUT      MEERUT   \n",
       "8384                    MAIN BAZAR,BARAN-325205       BARAN       BARAN   \n",
       "40790             POTLAN-311810,GANGAPUR TALUKA      POTLAN    BHILWARA   \n",
       "41269  SADAR BAZAR,ABU ROAD,TEH.ABU ROAD,307026    ABU ROAD      SIROHI   \n",
       "\n",
       "               state  \n",
       "8086      TAMIL NADU  \n",
       "8131   UTTAR PRADESH  \n",
       "8384       RAJASTHAN  \n",
       "40790      RAJASTHAN  \n",
       "41269      RAJASTHAN  "
      ]
     },
     "execution_count": 21,
     "metadata": {},
     "output_type": "execute_result"
    }
   ],
   "source": [
    "smaller_df.head()"
   ]
  },
  {
   "cell_type": "code",
   "execution_count": 22,
   "metadata": {},
   "outputs": [],
   "source": [
    "smaller_df = smaller_df.head(9999)"
   ]
  },
  {
   "cell_type": "code",
   "execution_count": 23,
   "metadata": {},
   "outputs": [
    {
     "data": {
      "text/plain": [
       "(9999, 8)"
      ]
     },
     "execution_count": 23,
     "metadata": {},
     "output_type": "execute_result"
    }
   ],
   "source": [
    "smaller_df.shape"
   ]
  },
  {
   "cell_type": "code",
   "execution_count": 24,
   "metadata": {},
   "outputs": [],
   "source": [
    "smaller_df.to_csv('bank_dataset.csv')"
   ]
  },
  {
   "cell_type": "code",
   "execution_count": 25,
   "metadata": {},
   "outputs": [
    {
     "name": "stdout",
     "output_type": "stream",
     "text": [
      "bank_branches_large.csv  bank_dataset.csv  bankdb.dump  trim_bank_dataset.ipynb\r\n"
     ]
    }
   ],
   "source": [
    "ls"
   ]
  },
  {
   "cell_type": "code",
   "execution_count": 26,
   "metadata": {},
   "outputs": [
    {
     "data": {
      "text/plain": [
       "(9999, 8)"
      ]
     },
     "execution_count": 26,
     "metadata": {},
     "output_type": "execute_result"
    }
   ],
   "source": [
    "smaller_df.shape"
   ]
  },
  {
   "cell_type": "code",
   "execution_count": null,
   "metadata": {},
   "outputs": [],
   "source": [
    "smal"
   ]
  }
 ],
 "metadata": {
  "kernelspec": {
   "display_name": "Python 3",
   "language": "python",
   "name": "python3"
  },
  "language_info": {
   "codemirror_mode": {
    "name": "ipython",
    "version": 3
   },
   "file_extension": ".py",
   "mimetype": "text/x-python",
   "name": "python",
   "nbconvert_exporter": "python",
   "pygments_lexer": "ipython3",
   "version": "3.6.8"
  }
 },
 "nbformat": 4,
 "nbformat_minor": 2
}
